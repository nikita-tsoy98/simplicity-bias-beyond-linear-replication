{
 "cells": [
  {
   "cell_type": "code",
   "execution_count": 1,
   "metadata": {},
   "outputs": [],
   "source": [
    "import scipy.integrate as integrate\n",
    "import scipy.special as sc\n",
    "from numpy import exp, log"
   ]
  },
  {
   "cell_type": "code",
   "execution_count": 2,
   "metadata": {},
   "outputs": [],
   "source": [
    "#numerical integraition used in the proof of Proposition 5.7\n",
    "def h(x, C):\n",
    "  return C * (sc.expi(x) - sc.expi(1)) + log(x)\n",
    "\n",
    "def bound(a, bmin, bmax, c, qmax=8/3, qmin=2.25):\n",
    "  A = ((1 - 2 * a) * exp(-7 * qmax**2 * a) - 4 * a) / 2\n",
    "  B = (1 + a) / 2\n",
    "  C = exp(-4 * qmax**2 * a)\n",
    "  desire = h((1 - 2*a) * qmin**2, C)\n",
    "  first_term = h((1 - 2*a) * qmax**2, C) \n",
    "  second_term = (1 + C * exp(1)) * log((1 - 2 * a) * bmin**2)\n",
    "  bound = A / B * first_term +\\\n",
    "    (B - A) / B * second_term -\\\n",
    "    (1 + C * exp((1 - 2 * a) * bmax**2)) * log(c**2)\n",
    "  return desire, bound, desire < bound"
   ]
  },
  {
   "cell_type": "code",
   "execution_count": 3,
   "metadata": {},
   "outputs": [
    {
     "data": {
      "text/plain": [
       "(29.56022297436964, 29.629449461515534, True)"
      ]
     },
     "execution_count": 3,
     "metadata": {},
     "output_type": "execute_result"
    }
   ],
   "source": [
    "bound(0.01, 0.0005, 0.5, 1000)"
   ]
  },
  {
   "cell_type": "code",
   "execution_count": 2,
   "metadata": {},
   "outputs": [],
   "source": [
    "import numpy as np\n",
    "\n",
    "import matplotlib\n",
    "import matplotlib.pyplot as plt\n",
    "\n",
    "%config InlineBackend.figure_format = 'retina'"
   ]
  },
  {
   "cell_type": "code",
   "execution_count": 5,
   "metadata": {},
   "outputs": [],
   "source": [
    "with open('domino.npy', 'rb') as f:\n",
    "    experiments = np.load(f)\n",
    "\n",
    "with open('domino_no_reg.npy', 'rb') as f:\n",
    "    experiment_no_reg = np.load(f)"
   ]
  },
  {
   "cell_type": "code",
   "execution_count": 8,
   "metadata": {},
   "outputs": [],
   "source": [
    "matplotlib.use(\"pgf\")\n",
    "matplotlib.rcParams.update({\n",
    "    'pgf.texsystem': 'pdflatex',\n",
    "    'text.usetex': True,\n",
    "})\n",
    "\n",
    "fig, ax = plt.subplots(2, 2)\n",
    "fig.set_size_inches(h=2.7 * 2, w=2.7 * 2)\n",
    "\n",
    "for col, x, comment in zip(\n",
    "    range(2),\n",
    "    [experiments[0], experiment_no_reg],\n",
    "    [\"C = 1000\", \"no penalty\"]):\n",
    "    for row, y, title in zip(\n",
    "        range(2), [1, 3], ['OOD Accuracy', 'Scale']):\n",
    "        z = x[:, y]\n",
    "        ax[row][col].errorbar(\n",
    "            np.arange(z.shape[1])*2**8//(z.shape[1]-1),\n",
    "            z.mean(0), yerr=z.std(0, ddof=1))\n",
    "        ax[row][col].set_title(title + \", \" + comment)\n",
    "\n",
    "plt.gcf().tight_layout()\n",
    "plt.savefig('ood.pgf', bbox_inches='tight')\n",
    "plt.close()"
   ]
  },
  {
   "cell_type": "code",
   "execution_count": null,
   "metadata": {},
   "outputs": [],
   "source": []
  }
 ],
 "metadata": {
  "kernelspec": {
   "display_name": "Python 3",
   "language": "python",
   "name": "python3"
  },
  "language_info": {
   "codemirror_mode": {
    "name": "ipython",
    "version": 3
   },
   "file_extension": ".py",
   "mimetype": "text/x-python",
   "name": "python",
   "nbconvert_exporter": "python",
   "pygments_lexer": "ipython3",
   "version": "3.11.6"
  }
 },
 "nbformat": 4,
 "nbformat_minor": 2
}
