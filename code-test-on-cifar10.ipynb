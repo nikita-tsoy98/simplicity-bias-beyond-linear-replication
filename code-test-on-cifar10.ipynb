{
 "cells": [
  {
   "cell_type": "code",
   "execution_count": 1,
   "metadata": {},
   "outputs": [],
   "source": [
    "import torch\n",
    "from torch import nn\n",
    "from torch.utils.data import DataLoader, Subset, random_split\n",
    "\n",
    "import torchvision\n",
    "from torchvision import transforms\n",
    "from torchvision.models import resnet18\n",
    "from torchvision.models.feature_extraction import create_feature_extractor\n",
    "\n",
    "from train_utils import *\n",
    "from train_xor import *\n",
    "\n",
    "import numpy as np\n",
    "\n",
    "#this file shows that ResNet-18 achieves 90% accuracy with our training setup"
   ]
  },
  {
   "cell_type": "code",
   "execution_count": 2,
   "metadata": {},
   "outputs": [],
   "source": [
    "def prepare_resnet18(num_classes, scale=1.0):\n",
    "    model = resnet18(num_classes=num_classes)\n",
    "    model.conv1 = nn.Conv2d(\n",
    "        3, 64, kernel_size=3, stride=1, padding=1, bias=False\n",
    "    ) #small convolution is better for CIFAR-10\n",
    "    with torch.no_grad():\n",
    "        for parameter in model.parameters():\n",
    "            parameter.copy_(parameter * scale)\n",
    "    return model"
   ]
  },
  {
   "cell_type": "code",
   "execution_count": 3,
   "metadata": {},
   "outputs": [],
   "source": [
    "mean = [0.491, 0.482, 0.446]\n",
    "std = [0.202, 0.199, 0.201]\n",
    "test_transform = transforms.Compose([\n",
    "    transforms.ToTensor(),\n",
    "    transforms.Normalize(mean, std),\n",
    "])\n",
    "train_transform = transforms.Compose([\n",
    "    transforms.RandomCrop(32, padding=4),\n",
    "    transforms.RandomHorizontalFlip(),\n",
    "    test_transform\n",
    "])"
   ]
  },
  {
   "cell_type": "code",
   "execution_count": 4,
   "metadata": {},
   "outputs": [],
   "source": [
    "#prepare training parameters\n",
    "\n",
    "epochs = 2**8\n",
    "\n",
    "seed = 179\n",
    "\n",
    "data_params = {\n",
    "    'root': '/mnt/files/data',\n",
    "    'data_fn': torchvision.datasets.CIFAR10,\n",
    "    'train_transform': train_transform,\n",
    "    'test_transform': test_transform,\n",
    "}\n",
    "loader_params = {'batch_size': 2**7, 'num_workers': 4}\n",
    "model_params = {\n",
    "    'num_classes': 10,\n",
    "    'scale': 2**(-5)\n",
    "}\n",
    "loss_params = {}\n",
    "optimizer_params = {\n",
    "    'momentum': 0.9, 'weight_decay': 0.0005, 'nesterov': True\n",
    "}\n",
    "scheduler_params = {}\n",
    "correction_params = {'lr_factor': 2**(-10), 'warmup_factor': 2**(-3)}\n",
    "\n",
    "train_params = {\n",
    "    'val_interval': epochs//4\n",
    "}\n",
    "\n",
    "train_kwargs = {\n",
    "    'model_fn': prepare_resnet18\n",
    "}"
   ]
  },
  {
   "cell_type": "code",
   "execution_count": 5,
   "metadata": {},
   "outputs": [
    {
     "data": {
      "application/vnd.jupyter.widget-view+json": {
       "model_id": "c8b5bb6b115d4d4f82e7c06bf66e858f",
       "version_major": 2,
       "version_minor": 0
      },
      "text/plain": [
       "  0%|          | 0/256 [00:00<?, ?it/s]"
      ]
     },
     "metadata": {},
     "output_type": "display_data"
    },
    {
     "name": "stdout",
     "output_type": "stream",
     "text": [
      "Epoch:   0 Accuracy: 10.2%\n",
      "Epoch:  64 Accuracy: 78.4%\n",
      "Epoch: 128 Accuracy: 85.2%\n",
      "Epoch: 192 Accuracy: 88.1%\n",
      "Epoch: 256 Accuracy: 92.6%\n"
     ]
    }
   ],
   "source": [
    "#train model\n",
    "\n",
    "model = get_trained_model(\n",
    "    epochs,\n",
    "    data_params,\n",
    "    loader_params,\n",
    "    model_params,\n",
    "    loss_params,\n",
    "    optimizer_params,\n",
    "    scheduler_params,\n",
    "    correction_params,\n",
    "    train_params,\n",
    "    seed,\n",
    "    seed,\n",
    "    seed,\n",
    "    seed,\n",
    "    **train_kwargs\n",
    ")"
   ]
  },
  {
   "cell_type": "code",
   "execution_count": null,
   "metadata": {},
   "outputs": [],
   "source": []
  }
 ],
 "metadata": {
  "kernelspec": {
   "display_name": "Python 3",
   "language": "python",
   "name": "python3"
  },
  "language_info": {
   "codemirror_mode": {
    "name": "ipython",
    "version": 3
   },
   "file_extension": ".py",
   "mimetype": "text/x-python",
   "name": "python",
   "nbconvert_exporter": "python",
   "pygments_lexer": "ipython3",
   "version": "3.11.6"
  }
 },
 "nbformat": 4,
 "nbformat_minor": 2
}
