{
 "cells": [
  {
   "cell_type": "code",
   "execution_count": 1,
   "metadata": {},
   "outputs": [],
   "source": [
    "import numpy as np\n",
    "import matplotlib\n",
    "import matplotlib.pyplot as plt\n",
    "\n",
    "%config InlineBackend.figure_format = 'retina'"
   ]
  },
  {
   "cell_type": "code",
   "execution_count": 2,
   "metadata": {},
   "outputs": [],
   "source": [
    "matplotlib.use(\"pgf\")\n",
    "matplotlib.rcParams.update({\n",
    "    'pgf.texsystem': 'pdflatex',\n",
    "    'text.usetex': True,\n",
    "})\n",
    "\n",
    "experiments = np.load(\"domino.npy\")\n",
    "experiment_no_reg = np.load(\"domino_no_reg.npy\")\n",
    "experiment_no_reg_big = np.load(\"domino_no_reg_usual_scale.npy\")\n",
    "\n",
    "experiments_rev = np.load(\"domino_reverse.npy\")"
   ]
  },
  {
   "cell_type": "code",
   "execution_count": 5,
   "metadata": {},
   "outputs": [],
   "source": [
    "fig, ax = plt.subplots(2, 2, constrained_layout=True)\n",
    "fig.set_size_inches(h=3.3, w=3.3)\n",
    "\n",
    "for col, x, comment in zip(\n",
    "    range(2),\n",
    "    [experiments[0], experiment_no_reg],\n",
    "    [\"C = 1000\", \"no penalty\"]):\n",
    "    for row, y, title in zip(\n",
    "        range(2), [1, 3], ['OOD Accuracy', 'Scale']):\n",
    "        z = x[:, y]\n",
    "        ax[row][col].errorbar(\n",
    "            np.arange(z.shape[1])*2**8//(z.shape[1]-1),\n",
    "            z.mean(0), yerr=z.std(0, ddof=1), linewidth=0.75)\n",
    "        ax[row][col].set_title(title + \", \" + comment, fontsize=7)\n",
    "        ax[row][col].tick_params(\n",
    "            axis='both', labelsize=6, length=2, width=0.5)\n",
    "        plt.setp(ax[row][col].spines.values(), linewidth=0.5)\n",
    "\n",
    "plt.gcf()\n",
    "plt.savefig('ood.pgf', bbox_inches='tight', pad_inches=0)\n",
    "plt.close()"
   ]
  },
  {
   "cell_type": "code",
   "execution_count": 8,
   "metadata": {},
   "outputs": [],
   "source": [
    "fig, ax = plt.subplots(2, 2, constrained_layout=True)\n",
    "fig.set_size_inches(h=6.8, w=6.8)\n",
    "\n",
    "for col, x, comment in zip(\n",
    "    range(2),\n",
    "    [experiments[1], experiment_no_reg_big],\n",
    "    [\"C = 1000, Init = 1\", \"no penalty, Init = 1\"]):\n",
    "    for row, y, title in zip(\n",
    "        range(2), [1, 3], ['OOD Accuracy', 'Scale']):\n",
    "        z = x[:, y]\n",
    "        ax[row][col].errorbar(\n",
    "            np.arange(z.shape[1])*2**8//(z.shape[1]-1),\n",
    "            z.mean(0), yerr=z.std(0, ddof=1), linewidth=1.05)\n",
    "        ax[row][col].set_title(title + \", \" + comment, fontsize=9)\n",
    "        ax[row][col].tick_params(\n",
    "            axis='both', labelsize=8, length=2.8, width=0.7)\n",
    "        plt.setp(ax[row][col].spines.values(), linewidth=0.7)\n",
    "\n",
    "plt.gcf()\n",
    "plt.savefig('ood1.pgf', bbox_inches='tight', pad_inches=0)\n",
    "plt.close()"
   ]
  },
  {
   "cell_type": "code",
   "execution_count": 10,
   "metadata": {},
   "outputs": [],
   "source": [
    "fig, ax = plt.subplots(2, 2, constrained_layout=True)\n",
    "fig.set_size_inches(h=6.8, w=6.8)\n",
    "\n",
    "for col, x, comment in zip(\n",
    "    range(2),\n",
    "    [experiments_rev[0], experiments_rev[1]],\n",
    "    [\"Reversed, Init = $2^{-5}$\", \"Reversed, Init = $1$\"]):\n",
    "    for row, y, title in zip(\n",
    "        range(2), [1, 3], ['OOD', 'Scale']):\n",
    "        z = x[:, y]\n",
    "        ax[row][col].errorbar(\n",
    "            np.arange(z.shape[1])*2**8//(z.shape[1]-1),\n",
    "            z.mean(0), yerr=z.std(0, ddof=1), linewidth=1.05)\n",
    "        ax[row][col].set_title(title + \", \" + comment, fontsize=9)\n",
    "        ax[row][col].tick_params(\n",
    "            axis='both', labelsize=8, length=2.8, width=0.7)\n",
    "        plt.setp(ax[row][col].spines.values(), linewidth=0.7)\n",
    "\n",
    "plt.gcf()\n",
    "plt.savefig('ood-rev.pgf', bbox_inches='tight', pad_inches=0)\n",
    "plt.close()"
   ]
  },
  {
   "cell_type": "code",
   "execution_count": 3,
   "metadata": {},
   "outputs": [],
   "source": [
    "fig, ax = plt.subplots(1, 2, constrained_layout=True)\n",
    "fig.set_size_inches(h=6.8 / 2, w=6.8)\n",
    "\n",
    "for col, x, comment in zip(\n",
    "    range(1),\n",
    "    [experiments[2]],\n",
    "    [\"Error on Train = 5%\"]):\n",
    "    for row, y, title in zip(\n",
    "        range(2), [1, 3], ['OOD', 'Scale']):\n",
    "        z = x[:, y]\n",
    "        ax[row].errorbar(\n",
    "            np.arange(z.shape[1])*2**8//(z.shape[1]-1),\n",
    "            z.mean(0), yerr=z.std(0, ddof=1), linewidth=1.05)\n",
    "        ax[row].set_title(title + \", \" + comment, fontsize=9)\n",
    "        ax[row].tick_params(\n",
    "            axis='both', labelsize=8, length=2.8, width=0.7)\n",
    "        plt.setp(ax[row].spines.values(), linewidth=0.7)\n",
    "\n",
    "plt.gcf()\n",
    "plt.savefig('ood-err5.pgf', bbox_inches='tight', pad_inches=0)\n",
    "plt.close()"
   ]
  },
  {
   "cell_type": "code",
   "execution_count": null,
   "metadata": {},
   "outputs": [],
   "source": []
  }
 ],
 "metadata": {
  "kernelspec": {
   "display_name": "Python 3",
   "language": "python",
   "name": "python3"
  },
  "language_info": {
   "codemirror_mode": {
    "name": "ipython",
    "version": 3
   },
   "file_extension": ".py",
   "mimetype": "text/x-python",
   "name": "python",
   "nbconvert_exporter": "python",
   "pygments_lexer": "ipython3",
   "version": "3.11.6"
  }
 },
 "nbformat": 4,
 "nbformat_minor": 2
}
